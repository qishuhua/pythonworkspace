{
 "metadata": {
  "language_info": {
   "codemirror_mode": {
    "name": "ipython",
    "version": 3
   },
   "file_extension": ".py",
   "mimetype": "text/x-python",
   "name": "python",
   "nbconvert_exporter": "python",
   "pygments_lexer": "ipython3",
   "version": "3.8.10"
  },
  "orig_nbformat": 2,
  "kernelspec": {
   "name": "python3810jvsc74a57bd00b5cfda34baeb754561b5baf4c82528b7279cc6ecd4c03e4b27f1debfaa071a8",
   "display_name": "Python 3.8.10 64-bit ('tf2': conda)"
  },
  "metadata": {
   "interpreter": {
    "hash": "0b5cfda34baeb754561b5baf4c82528b7279cc6ecd4c03e4b27f1debfaa071a8"
   }
  }
 },
 "nbformat": 4,
 "nbformat_minor": 2,
 "cells": [
  {
   "source": [
    "import tensorflow as tf \n",
    "import numpy as np \n",
    "print(\"tensorflow version:\",tf.__version__)"
   ],
   "cell_type": "code",
   "metadata": {},
   "execution_count": 1,
   "outputs": [
    {
     "output_type": "stream",
     "name": "stdout",
     "text": [
      "tensorflow version: 2.2.0\n"
     ]
    }
   ]
  },
  {
   "cell_type": "code",
   "execution_count": 2,
   "metadata": {},
   "outputs": [
    {
     "output_type": "stream",
     "name": "stdout",
     "text": [
      "eager execution is:  True\n"
     ]
    }
   ],
   "source": [
    "tf.config.experimental_run_functions_eagerly(True)\n",
    "print(\"eager execution is: \" ,tf.executing_eagerly())"
   ]
  },
  {
   "cell_type": "code",
   "execution_count": 3,
   "metadata": {},
   "outputs": [
    {
     "output_type": "execute_result",
     "data": {
      "text/plain": [
       "array([[1, 2],\n",
       "       [3, 4]])"
      ]
     },
     "metadata": {},
     "execution_count": 3
    }
   ],
   "source": [
    "a=tf.constant([[1,2],[3,4]])\n",
    "a.numpy()"
   ]
  },
  {
   "cell_type": "code",
   "execution_count": 4,
   "metadata": {},
   "outputs": [
    {
     "output_type": "execute_result",
     "data": {
      "text/plain": [
       "tensorflow.python.framework.ops.EagerTensor"
      ]
     },
     "metadata": {},
     "execution_count": 4
    }
   ],
   "source": [
    "type(a)"
   ]
  },
  {
   "cell_type": "code",
   "execution_count": 5,
   "metadata": {},
   "outputs": [
    {
     "output_type": "stream",
     "name": "stdout",
     "text": [
      "tf.Tensor(\n[[1 2]\n [3 4]], shape=(2, 2), dtype=int32)\n"
     ]
    }
   ],
   "source": [
    "print(a)"
   ]
  },
  {
   "cell_type": "code",
   "execution_count": 6,
   "metadata": {},
   "outputs": [
    {
     "output_type": "execute_result",
     "data": {
      "text/plain": [
       "<tf.Tensor: shape=(), dtype=float32, numpy=1.0>"
      ]
     },
     "metadata": {},
     "execution_count": 6
    }
   ],
   "source": [
    "tf.constant(1.0)"
   ]
  },
  {
   "cell_type": "code",
   "execution_count": 7,
   "metadata": {},
   "outputs": [
    {
     "output_type": "execute_result",
     "data": {
      "text/plain": [
       "<tf.Tensor: shape=(), dtype=float32, numpy=1.0>"
      ]
     },
     "metadata": {},
     "execution_count": 7
    }
   ],
   "source": [
    "tf.constant(1.)"
   ]
  },
  {
   "cell_type": "code",
   "execution_count": 8,
   "metadata": {},
   "outputs": [
    {
     "output_type": "execute_result",
     "data": {
      "text/plain": [
       "<tf.Tensor: shape=(), dtype=float64, numpy=1.0>"
      ]
     },
     "metadata": {},
     "execution_count": 8
    }
   ],
   "source": [
    "tf.constant(1.0,dtype=tf.float64)"
   ]
  },
  {
   "cell_type": "code",
   "execution_count": 9,
   "metadata": {},
   "outputs": [
    {
     "output_type": "execute_result",
     "data": {
      "text/plain": [
       "<tf.Tensor: shape=(2,), dtype=int32, numpy=array([1, 2])>"
      ]
     },
     "metadata": {},
     "execution_count": 9
    }
   ],
   "source": [
    "import numpy as np \n",
    "tf.constant(np.array([1,2]))"
   ]
  },
  {
   "cell_type": "code",
   "execution_count": 10,
   "metadata": {},
   "outputs": [
    {
     "output_type": "execute_result",
     "data": {
      "text/plain": [
       "<tf.Tensor: shape=(2,), dtype=float64, numpy=array([1., 2.])>"
      ]
     },
     "metadata": {},
     "execution_count": 10
    }
   ],
   "source": [
    "'''numpy创建浮点数数组时，默认的浮点型是64位浮点数。\n",
    "当使用NumPy数组创建张量时，TensorFlow会接受数组\n",
    "元素的数据类型，使用64位浮点数保存数据。'''\n",
    "tf.constant(np.array([1.0,2.0]))"
   ]
  },
  {
   "cell_type": "code",
   "execution_count": 11,
   "metadata": {},
   "outputs": [
    {
     "output_type": "execute_result",
     "data": {
      "text/plain": [
       "<tf.Tensor: shape=(2,), dtype=float32, numpy=array([1., 2.], dtype=float32)>"
      ]
     },
     "metadata": {},
     "execution_count": 11
    }
   ],
   "source": [
    "#指明数据类型为32位浮点\n",
    "tf.constant(np.array([1.0,2.0]),dtype=tf.float32)"
   ]
  },
  {
   "cell_type": "code",
   "execution_count": 12,
   "metadata": {},
   "outputs": [
    {
     "output_type": "execute_result",
     "data": {
      "text/plain": [
       "tf.float16"
      ]
     },
     "metadata": {},
     "execution_count": 12
    }
   ],
   "source": [
    "#tf.cast()函数：改变张量中元素的数据类\n",
    "a=tf.constant(np.array([1,2]))\n",
    "b=tf.cast(a,dtype=tf.float16)\n",
    "b.dtype"
   ]
  },
  {
   "cell_type": "code",
   "execution_count": 13,
   "metadata": {},
   "outputs": [
    {
     "output_type": "execute_result",
     "data": {
      "text/plain": [
       "<tf.Tensor: shape=(), dtype=int16, numpy=-13035>"
      ]
     },
     "metadata": {},
     "execution_count": 13
    }
   ],
   "source": [
    "a=tf.constant(123456789,dtype=tf.int32)\n",
    "tf.cast(a,tf.int16)"
   ]
  },
  {
   "cell_type": "code",
   "execution_count": 14,
   "metadata": {},
   "outputs": [
    {
     "output_type": "execute_result",
     "data": {
      "text/plain": [
       "<tf.Tensor: shape=(), dtype=bool, numpy=True>"
      ]
     },
     "metadata": {},
     "execution_count": 14
    }
   ],
   "source": [
    "# 参数为布尔型\n",
    "tf.constant(True)"
   ]
  },
  {
   "cell_type": "code",
   "execution_count": 15,
   "metadata": {},
   "outputs": [
    {
     "output_type": "execute_result",
     "data": {
      "text/plain": [
       "<tf.Tensor: shape=(2,), dtype=int16, numpy=array([1, 0], dtype=int16)>"
      ]
     },
     "metadata": {},
     "execution_count": 15
    }
   ],
   "source": [
    "a=tf.constant([True,False])\n",
    "tf.cast(a,dtype=tf.int16)"
   ]
  },
  {
   "cell_type": "code",
   "execution_count": 16,
   "metadata": {},
   "outputs": [
    {
     "output_type": "execute_result",
     "data": {
      "text/plain": [
       "<tf.Tensor: shape=(7,), dtype=bool, numpy=array([False,  True,  True,  True,  True,  True,  True])>"
      ]
     },
     "metadata": {},
     "execution_count": 16
    }
   ],
   "source": [
    "a=tf.constant([0,1,2,3,4,5,6.-1])\n",
    "tf.cast(a,dtype=tf.bool)"
   ]
  },
  {
   "cell_type": "code",
   "execution_count": 17,
   "metadata": {},
   "outputs": [
    {
     "output_type": "execute_result",
     "data": {
      "text/plain": [
       "<tf.Tensor: shape=(), dtype=string, numpy=b'hello'>"
      ]
     },
     "metadata": {},
     "execution_count": 17
    }
   ],
   "source": [
    "tf.constant(\"hello\")"
   ]
  },
  {
   "cell_type": "code",
   "execution_count": 18,
   "metadata": {},
   "outputs": [
    {
     "output_type": "execute_result",
     "data": {
      "text/plain": [
       "numpy.ndarray"
      ]
     },
     "metadata": {},
     "execution_count": 18
    }
   ],
   "source": [
    "# tf.convert_to_tensor()函数创建张量\n",
    "na=np.arange(12).reshape(3,4)\n",
    "ta=tf.convert_to_tensor(na)\n",
    "type(na)"
   ]
  },
  {
   "cell_type": "code",
   "execution_count": 19,
   "metadata": {},
   "outputs": [
    {
     "output_type": "execute_result",
     "data": {
      "text/plain": [
       "tensorflow.python.framework.ops.EagerTensor"
      ]
     },
     "metadata": {},
     "execution_count": 19
    }
   ],
   "source": [
    "type(ta)"
   ]
  },
  {
   "cell_type": "code",
   "execution_count": 20,
   "metadata": {},
   "outputs": [
    {
     "output_type": "execute_result",
     "data": {
      "text/plain": [
       "True"
      ]
     },
     "metadata": {},
     "execution_count": 20
    }
   ],
   "source": [
    "tf.is_tensor(ta)"
   ]
  },
  {
   "cell_type": "code",
   "execution_count": 21,
   "metadata": {},
   "outputs": [
    {
     "output_type": "execute_result",
     "data": {
      "text/plain": [
       "True"
      ]
     },
     "metadata": {},
     "execution_count": 21
    }
   ],
   "source": [
    "isinstance(ta,tf.Tensor)"
   ]
  },
  {
   "cell_type": "code",
   "execution_count": 22,
   "metadata": {},
   "outputs": [
    {
     "output_type": "execute_result",
     "data": {
      "text/plain": [
       "<tf.Tensor: shape=(9, 9), dtype=float32, numpy=\n",
       "array([[1., 1., 1., 1., 1., 1., 1., 1., 1.],\n",
       "       [1., 1., 1., 1., 1., 1., 1., 1., 1.],\n",
       "       [1., 1., 1., 1., 1., 1., 1., 1., 1.],\n",
       "       [1., 1., 1., 1., 1., 1., 1., 1., 1.],\n",
       "       [1., 1., 1., 1., 1., 1., 1., 1., 1.],\n",
       "       [1., 1., 1., 1., 1., 1., 1., 1., 1.],\n",
       "       [1., 1., 1., 1., 1., 1., 1., 1., 1.],\n",
       "       [1., 1., 1., 1., 1., 1., 1., 1., 1.],\n",
       "       [1., 1., 1., 1., 1., 1., 1., 1., 1.]], dtype=float32)>"
      ]
     },
     "metadata": {},
     "execution_count": 22
    }
   ],
   "source": [
    "# 创建全0张量和全1张量\n",
    "tf.ones(shape=(9,9))"
   ]
  },
  {
   "cell_type": "code",
   "execution_count": 23,
   "metadata": {},
   "outputs": [
    {
     "output_type": "execute_result",
     "data": {
      "text/plain": [
       "<tf.Tensor: shape=(9,), dtype=float32, numpy=array([0., 0., 0., 0., 0., 0., 0., 0., 0.], dtype=float32)>"
      ]
     },
     "metadata": {},
     "execution_count": 23
    }
   ],
   "source": [
    "tf.zeros([9])"
   ]
  },
  {
   "cell_type": "code",
   "execution_count": 24,
   "metadata": {},
   "outputs": [
    {
     "output_type": "execute_result",
     "data": {
      "text/plain": [
       "<tf.Tensor: shape=(9, 1), dtype=int32, numpy=\n",
       "array([[1],\n",
       "       [1],\n",
       "       [1],\n",
       "       [1],\n",
       "       [1],\n",
       "       [1],\n",
       "       [1],\n",
       "       [1],\n",
       "       [1]])>"
      ]
     },
     "metadata": {},
     "execution_count": 24
    }
   ],
   "source": [
    "tf.ones([9,1],dtype=tf.int32)"
   ]
  },
  {
   "cell_type": "code",
   "execution_count": 25,
   "metadata": {},
   "outputs": [
    {
     "output_type": "execute_result",
     "data": {
      "text/plain": [
       "<tf.Tensor: shape=(2, 2), dtype=int32, numpy=\n",
       "array([[9, 9],\n",
       "       [9, 9]])>"
      ]
     },
     "metadata": {},
     "execution_count": 25
    }
   ],
   "source": [
    "#创建元素值都相同的张量—— tf.fill()函数\n",
    "tf.fill([2,2],value=9)"
   ]
  },
  {
   "cell_type": "code",
   "execution_count": 26,
   "metadata": {},
   "outputs": [
    {
     "output_type": "execute_result",
     "data": {
      "text/plain": [
       "<tf.Tensor: shape=(2, 3), dtype=int32, numpy=\n",
       "array([[9, 9, 9],\n",
       "       [9, 9, 9]])>"
      ]
     },
     "metadata": {},
     "execution_count": 26
    }
   ],
   "source": [
    "tf.constant(value=9,shape=[2,3])"
   ]
  },
  {
   "cell_type": "code",
   "execution_count": 27,
   "metadata": {},
   "outputs": [
    {
     "output_type": "execute_result",
     "data": {
      "text/plain": [
       "<tf.Tensor: shape=(2, 3), dtype=string, numpy=\n",
       "array([[b'sss', b'sss', b'sss'],\n",
       "       [b'sss', b'sss', b'sss']], dtype=object)>"
      ]
     },
     "metadata": {},
     "execution_count": 27
    }
   ],
   "source": [
    "tf.fill(dims=[2,3],value=\"sss\")"
   ]
  },
  {
   "cell_type": "code",
   "execution_count": 34,
   "metadata": {},
   "outputs": [
    {
     "output_type": "execute_result",
     "data": {
      "text/plain": [
       "<tf.Tensor: shape=(2, 2), dtype=float32, numpy=\n",
       "array([[-1.0460263 ,  1.0982687 ],\n",
       "       [ 0.5950667 ,  0.20979917]], dtype=float32)>"
      ]
     },
     "metadata": {},
     "execution_count": 34
    }
   ],
   "source": [
    "# 创建随机数张量——正态分布\n",
    "#tf.random.normal( shape, mean, stddev, dtype )\n",
    "#形状 均值 标准差 数据类型\n",
    "tf.random.normal([2,2])"
   ]
  },
  {
   "cell_type": "code",
   "execution_count": 35,
   "metadata": {},
   "outputs": [
    {
     "output_type": "execute_result",
     "data": {
      "text/plain": [
       "<tf.Tensor: shape=(3, 3, 3), dtype=float32, numpy=\n",
       "array([[[-1.5134152 ,  0.6807063 , -1.9976131 ],\n",
       "        [-0.92279243, -0.898463  ,  2.8027673 ],\n",
       "        [ 3.270326  ,  0.14157021, -3.9366379 ]],\n",
       "\n",
       "       [[ 1.5144184 , -0.3548147 , -0.9226826 ],\n",
       "        [-0.39161283, -0.6105048 , -2.9959815 ],\n",
       "        [ 2.6258917 , -1.995134  , -2.5341349 ]],\n",
       "\n",
       "       [[-0.8109242 ,  1.6404287 , -0.11751053],\n",
       "        [ 0.32380623, -2.9953182 , -1.9018034 ],\n",
       "        [ 0.89317805,  3.8696115 ,  1.3372667 ]]], dtype=float32)>"
      ]
     },
     "metadata": {},
     "execution_count": 35
    }
   ],
   "source": [
    "tf.random.normal([3,3,3],mean=0.0,stddev=2.0)"
   ]
  },
  {
   "cell_type": "code",
   "execution_count": 37,
   "metadata": {},
   "outputs": [
    {
     "output_type": "execute_result",
     "data": {
      "text/plain": [
       "<tf.Tensor: shape=(3, 3, 3), dtype=float32, numpy=\n",
       "array([[[ 0.6459214 , -0.37942213,  0.5220066 ],\n",
       "        [ 1.06337   ,  0.9679726 ,  1.6197397 ],\n",
       "        [ 0.89440924,  0.45701396,  0.46316132]],\n",
       "\n",
       "       [[-0.77026165, -0.87071157, -1.6121769 ],\n",
       "        [ 1.4857898 , -1.7573879 , -0.22993977],\n",
       "        [ 0.44018653,  1.5500519 , -1.2760416 ]],\n",
       "\n",
       "       [[ 0.38229427,  0.2903009 , -0.31871733],\n",
       "        [-1.1707617 ,  0.21660747, -0.370126  ],\n",
       "        [ 0.35755238,  1.8674486 , -1.7497528 ]]], dtype=float32)>"
      ]
     },
     "metadata": {},
     "execution_count": 37
    }
   ],
   "source": [
    "#截断正态分布\n",
    "tf.random.truncated_normal([3,3,3],mean=0.0,stddev=1.0)"
   ]
  },
  {
   "cell_type": "code",
   "execution_count": 44,
   "metadata": {},
   "outputs": [
    {
     "output_type": "execute_result",
     "data": {
      "text/plain": [
       "<tf.Tensor: shape=(2, 2), dtype=float32, numpy=\n",
       "array([[ 1.2074401, -0.7452462],\n",
       "       [ 0.6908678, -0.7635988]], dtype=float32)>"
      ]
     },
     "metadata": {},
     "execution_count": 44
    }
   ],
   "source": [
    "#设置随机种子tf.random.set_seed()\n",
    "tf.random.set_seed(8)\n",
    "tf.random.normal([2,2])"
   ]
  },
  {
   "cell_type": "code",
   "execution_count": 45,
   "metadata": {},
   "outputs": [
    {
     "output_type": "execute_result",
     "data": {
      "text/plain": [
       "<tf.Tensor: shape=(3, 3), dtype=int32, numpy=\n",
       "array([[6, 8, 3],\n",
       "       [9, 5, 1],\n",
       "       [8, 6, 1]])>"
      ]
     },
     "metadata": {},
     "execution_count": 45
    }
   ],
   "source": [
    "#均匀分布张量——tf.random.uniform()函数\n",
    "tf.random.uniform(shape=[3,3],minval=0,maxval=10,dtype=tf.int32)"
   ]
  },
  {
   "cell_type": "code",
   "execution_count": 52,
   "metadata": {},
   "outputs": [
    {
     "output_type": "execute_result",
     "data": {
      "text/plain": [
       "<tf.Tensor: shape=(3, 2), dtype=int32, numpy=\n",
       "array([[3, 4],\n",
       "       [5, 6],\n",
       "       [1, 2]])>"
      ]
     },
     "metadata": {},
     "execution_count": 52
    }
   ],
   "source": [
    "# 随机打乱——tf.random.shuffle()函数\n",
    "x=[[1,2],[3,4],[5,6]] \n",
    "tf.random.shuffle(x) #参数为张量，随机打乱第一维"
   ]
  },
  {
   "cell_type": "code",
   "execution_count": 53,
   "metadata": {},
   "outputs": [
    {
     "output_type": "execute_result",
     "data": {
      "text/plain": [
       "<tf.Tensor: shape=(5,), dtype=int32, numpy=array([1, 2, 5, 4, 3])>"
      ]
     },
     "metadata": {},
     "execution_count": 53
    }
   ],
   "source": [
    "y=[1,2,3,4,5]\n",
    "tf.random.shuffle(y)"
   ]
  },
  {
   "cell_type": "code",
   "execution_count": 55,
   "metadata": {},
   "outputs": [
    {
     "output_type": "execute_result",
     "data": {
      "text/plain": [
       "<tf.Tensor: shape=(5,), dtype=int32, numpy=array([3, 1, 2, 0, 4])>"
      ]
     },
     "metadata": {},
     "execution_count": 55
    }
   ],
   "source": [
    "z=np.arange(5)\n",
    "tf.random.shuffle(z)"
   ]
  },
  {
   "cell_type": "code",
   "execution_count": 57,
   "metadata": {},
   "outputs": [
    {
     "output_type": "execute_result",
     "data": {
      "text/plain": [
       "<tf.Tensor: shape=(5,), dtype=int32, numpy=array([1, 3, 5, 7, 9])>"
      ]
     },
     "metadata": {},
     "execution_count": 57
    }
   ],
   "source": [
    "# 创建序列——tf.range()函数\n",
    "tf.range(10)\n",
    "tf.range(10,delta=2)\n",
    "tf.range(1,10,delta=2)"
   ]
  },
  {
   "cell_type": "code",
   "execution_count": null,
   "metadata": {},
   "outputs": [],
   "source": [
    "# 类 型 函 数 功 能\n",
    "# 常量\n",
    "# tf.constant(value, dtype, shape) 创建张量\n",
    "# tf.convert_to_tensor() 创建张量\n",
    "# tf.zeros(shape, dtype = tf.float32) 创建全0张量\n",
    "# tf.ones(shape, dtype = tf.float32) 创建全1张量\n",
    "# tf.fill(shape, value) 创建元素值全部相同的张量\n",
    "# 随机量\n",
    "# tf.random.normal() 创建元素取值符合正态分布的张量\n",
    "# tf.random.truncated_normal( shape, mean, stddev, dtype ) 创建元素取值符合截断正态分布的张量\n",
    "# tf.random.uniform(shape,minval,maxval, dtype) 创建元素取值符合均匀分布的张量\n",
    "# 序列 \n",
    "# tf.range(起始数字,结束数字,步长) 创建元素取值为整数序列的张量"
   ]
  },
  {
   "cell_type": "code",
   "execution_count": 59,
   "metadata": {},
   "outputs": [
    {
     "output_type": "stream",
     "name": "stdout",
     "text": [
      "tf.Tensor(\n[[1 2]\n [3 4]], shape=(2, 2), dtype=int32)\n2\n<dtype: 'int32'>\n(2, 2)\n"
     ]
    }
   ],
   "source": [
    "#  Tensor对象的属性——ndim、shape、dtype\n",
    "a=tf.constant([[1,2],[3,4]])\n",
    "print(a)\n",
    "print(a.ndim)\n",
    "print(a.dtype)\n",
    "print(a.shape)\n",
    "\n"
   ]
  },
  {
   "cell_type": "code",
   "execution_count": 66,
   "metadata": {},
   "outputs": [
    {
     "output_type": "stream",
     "name": "stdout",
     "text": [
      "tf.Tensor([2 2], shape=(2,), dtype=int32)\ntf.Tensor(4, shape=(), dtype=int32)\ntf.Tensor(2, shape=(), dtype=int32)\n"
     ]
    }
   ],
   "source": [
    "#  获得Tensor对象的形状、元素总数和维度\n",
    "a=tf.constant([[1,2],[3,4]])\n",
    "print(tf.shape(a))\n",
    "print(tf.size(a))\n",
    "print(tf.rank(a))"
   ]
  },
  {
   "cell_type": "code",
   "execution_count": null,
   "metadata": {},
   "outputs": [],
   "source": []
  }
 ]
}